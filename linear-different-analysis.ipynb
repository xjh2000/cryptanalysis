{
 "cells": [
  {
   "cell_type": "markdown",
   "metadata": {},
   "source": [
    "tutorial on **linear** cryptanalysis and **differential** cryptanalysis, the two most significant attacks applicable to symmetric-key block ciphers.\n",
    "\n",
    "more resource\n",
    "\n",
    "[A Tutorial on Linear and Differential Cryptanalysis](https://www.yuque.com/xjh2000/cipher-paper/rhoufp5noo8apsmo?singleDoc)\n"
   ]
  },
  {
   "cell_type": "markdown",
   "metadata": {},
   "source": [
    "The most fundamental property of an S-box is that it is a nonlinear mapping, i.e., the output bits cannot be represented as a linear operation on the input bits.\n",
    "\n",
    "we chose one 4-bit sbox.\n",
    "\n",
    "| 0 | 1 | 2 | 3 | 4 | 5 | 6 | 7 | 8 | 9 | A | B | C | D | E | F | \n",
    "| -------- | -------- | -------- | -------- | -------- | -------- | -------- | -------- | -------- | -------- | -------- | -------- | -------- | -------- | -------- | -------- | \n",
    "| E | 4 | D | 1 | 2 | F | B | 8 | 3 | A | 6 | C | 5 | 9 | 0 | 7 | \n"
   ]
  },
  {
   "cell_type": "code",
   "execution_count": null,
   "metadata": {},
   "outputs": [],
   "source": [
    "sbox = list() "
   ]
  }
 ],
 "metadata": {
  "kernelspec": {
   "display_name": "Cryptanalysis",
   "language": "python",
   "name": "python3"
  },
  "language_info": {
   "name": "python",
   "version": "3.11.5"
  }
 },
 "nbformat": 4,
 "nbformat_minor": 2
}
